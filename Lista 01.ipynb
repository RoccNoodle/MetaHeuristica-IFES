{
 "cells": [
  {
   "cell_type": "markdown",
   "id": "fcaee78e",
   "metadata": {},
   "source": [
    "# Lista 01\n",
    "\n",
    "**Aluno:** João Victor Roccon da Silva\n",
    "**Mat.:** 20191ENPRO0230"
   ]
  },
  {
   "cell_type": "markdown",
   "id": "5a072bdb",
   "metadata": {},
   "source": [
    "## Exercício 07"
   ]
  },
  {
   "cell_type": "code",
   "execution_count": 7,
   "id": "d1e455e0",
   "metadata": {},
   "outputs": [
    {
     "name": "stdout",
     "output_type": "stream",
     "text": [
      "Digite a velocidade em km/h:\n",
      "36\n",
      "\n",
      "A velocidade em m/s é:\n",
      "10.00\n"
     ]
    }
   ],
   "source": [
    "vel_km=float(input(\"Digite a velocidade em km/h:\\n\"))\n",
    "vel_ms=vel_km/3.60\n",
    "\n",
    "print(f\"\\nA velocidade em m/s é:\\n{vel_ms:.2f}\")"
   ]
  },
  {
   "cell_type": "markdown",
   "id": "d6ec8dd9",
   "metadata": {},
   "source": [
    "## Exercício 08"
   ]
  },
  {
   "cell_type": "code",
   "execution_count": 5,
   "id": "d56ea392",
   "metadata": {},
   "outputs": [
    {
     "name": "stdout",
     "output_type": "stream",
     "text": [
      "Digite o ângulo em graus:\n",
      "20\n",
      "\n",
      "O ângulo em radiano é:\n",
      "0.35\n"
     ]
    }
   ],
   "source": [
    "import math\n",
    "\n",
    "ang_graus=float(input(\"Digite o ângulo em graus:\\n\"))\n",
    "pi=math.pi\n",
    "ang_rad=ang_graus*pi/180\n",
    "\n",
    "print(f\"\\nO ângulo em radiano é:\\n{ang_rad:.2f}\")"
   ]
  },
  {
   "cell_type": "markdown",
   "id": "07770686",
   "metadata": {},
   "source": [
    "## Exercício 09"
   ]
  },
  {
   "cell_type": "code",
   "execution_count": 11,
   "id": "86be9fc0",
   "metadata": {},
   "outputs": [
    {
     "name": "stdout",
     "output_type": "stream",
     "text": [
      "Digite a nota do valor 01:\n",
      "2\n",
      "Digite a nota do valor 02:\n",
      "2\n",
      "Digite a nota do valor 03:\n",
      "2\n",
      "Digite a nota do valor 04:\n",
      "2\n",
      "\n",
      "A média das notas é:\n",
      "2.00\n"
     ]
    }
   ],
   "source": [
    "import pandas\n",
    "\n",
    "aluno_01=float(input(\"Digite a nota do valor 01:\\n\"))\n",
    "aluno_02=float(input(\"Digite a nota do valor 02:\\n\"))\n",
    "aluno_03=float(input(\"Digite a nota do valor 03:\\n\"))\n",
    "aluno_04=float(input(\"Digite a nota do valor 04:\\n\"))\n",
    "\n",
    "lista=pd.Series([aluno_01,aluno_02,aluno_03,aluno_04])\n",
    "media=lista.mean()\n",
    "\n",
    "print(f\"\\nA média das notas é:\\n{media:.2f}\")"
   ]
  },
  {
   "cell_type": "markdown",
   "id": "ba4cba7b",
   "metadata": {},
   "source": [
    "## Exercício 10"
   ]
  },
  {
   "cell_type": "code",
   "execution_count": 4,
   "id": "4e07e49e",
   "metadata": {},
   "outputs": [
    {
     "name": "stdout",
     "output_type": "stream",
     "text": [
      "Digite o valor em reais para a conversão:\n",
      "1\n",
      "\n",
      "1.0 BRL é igual a 0.20 USD\n"
     ]
    }
   ],
   "source": [
    "reais=float(input(\"Digite o valor em reais para a conversão:\\n\"))\n",
    "dolar=reais/4.90\n",
    "\n",
    "print(f\"\\n{reais} BRL é igual a {dolar:.2f} USD\")"
   ]
  },
  {
   "cell_type": "markdown",
   "id": "beffbbe6",
   "metadata": {},
   "source": [
    "## Exercicio 11"
   ]
  },
  {
   "cell_type": "code",
   "execution_count": 5,
   "id": "98719445",
   "metadata": {},
   "outputs": [
    {
     "name": "stdout",
     "output_type": "stream",
     "text": [
      "Quantos dias de trabalho foram realizados?\n",
      "2\n",
      "\n",
      "O valor total é R$190.00\n"
     ]
    }
   ],
   "source": [
    "dias=int(input(\"Quantos dias de trabalho foram realizados?\\n\"))\n",
    "valor=float(80+55*dias)\n",
    "\n",
    "print(f\"\\nO valor total é R${valor:.2f}\")"
   ]
  },
  {
   "cell_type": "markdown",
   "id": "4928ce61",
   "metadata": {},
   "source": [
    "## Exercicio 12"
   ]
  },
  {
   "cell_type": "code",
   "execution_count": 7,
   "id": "41ceedc0",
   "metadata": {},
   "outputs": [
    {
     "name": "stdout",
     "output_type": "stream",
     "text": [
      "Qual o valor do produto?\n",
      "100\n",
      "\n",
      "O valor com desconto é é R$88.00\n"
     ]
    }
   ],
   "source": [
    "valor_atual=float(input(\"Qual o valor do produto?\\n\"))\n",
    "valor_final=float(valor_atual*0.88)\n",
    "\n",
    "print(f\"\\nO valor com desconto é é R${valor_final:.2f}\")"
   ]
  },
  {
   "cell_type": "markdown",
   "id": "c66afc67",
   "metadata": {},
   "source": [
    "## Exercicio 13"
   ]
  },
  {
   "cell_type": "code",
   "execution_count": 9,
   "id": "89120a43",
   "metadata": {},
   "outputs": [
    {
     "name": "stdout",
     "output_type": "stream",
     "text": [
      "Qual seu salário atual?\n",
      "1000\n",
      "\n",
      "O valor do novo salário é R$1250.00\n"
     ]
    }
   ],
   "source": [
    "salario=float(input(\"Qual seu salário atual?\\n\"))\n",
    "salario=salario+salario*0.25\n",
    "\n",
    "print(f\"\\nO valor do novo salário é R${salario:.2f}\")"
   ]
  },
  {
   "cell_type": "markdown",
   "id": "b01490b3",
   "metadata": {},
   "source": [
    "## Exercicio 14"
   ]
  },
  {
   "cell_type": "code",
   "execution_count": 10,
   "id": "930ededa",
   "metadata": {},
   "outputs": [
    {
     "name": "stdout",
     "output_type": "stream",
     "text": [
      "Qual o valor do prêmio?\n",
      "R$720000\n",
      "\n",
      "O primeiro colocado receberá R$331200.00, o segundo R$230400.00  e o terceiro receberá R$158400.00\n"
     ]
    }
   ],
   "source": [
    "premio=float(input(\"Qual o valor do prêmio?\\nR$\"))\n",
    "\n",
    "primeiro=float(premio*0.46)\n",
    "segundo=float(premio*0.32)\n",
    "terceiro=premio-primeiro-segundo\n",
    "\n",
    "print(f\"\\nO primeiro colocado receberá R${primeiro:.2f}, o segundo R${segundo:.2f}  e o terceiro receberá R${terceiro:.2f}\")"
   ]
  },
  {
   "cell_type": "markdown",
   "id": "7db9a5c5",
   "metadata": {},
   "source": [
    "## Exercicio 15"
   ]
  },
  {
   "cell_type": "code",
   "execution_count": 14,
   "id": "52a866b3",
   "metadata": {},
   "outputs": [
    {
     "name": "stdout",
     "output_type": "stream",
     "text": [
      "Qual o seu salário atual?\n",
      "R$1000\n",
      "\n",
      "Seu salário final é de:\n",
      "\n",
      "Salario Base: R$1000.00\n",
      "- Imposto: R$70.00\n",
      "+ Gratificação: R$50.00\n",
      "\n",
      "= Salario total: R$980.00\n"
     ]
    }
   ],
   "source": [
    "salario_base=float(input(\"Qual o seu salário atual?\\nR$\"))\n",
    "\n",
    "imposto=float(salario_base*0.07)\n",
    "gratificacao=float(salario_base*0.05)\n",
    "salario_final=float(salario_base-imposto+gratificacao)\n",
    "\n",
    "print(f\"\\nSeu salário final é de:\\n\\nSalario Base: R${salario_base:.2f}\\n- Imposto: R${imposto:.2f}\\n+ Gratificação: R${gratificacao:.2f}\\n\\n= Salario total: R${salario_final:.2f}\")"
   ]
  },
  {
   "cell_type": "markdown",
   "id": "f7a7e00a",
   "metadata": {},
   "source": [
    "## Exercício 16"
   ]
  },
  {
   "cell_type": "code",
   "execution_count": 27,
   "id": "b6d90023",
   "metadata": {},
   "outputs": [
    {
     "name": "stdout",
     "output_type": "stream",
     "text": [
      "Qual foi o valor vendido?\n",
      "R$1000\n",
      "\n",
      "Qual a forma de pagamento? \n",
      "1 = A vista \n",
      "2 = Parcelado\n",
      "2\n",
      "A compra será realizada em quantas parcelas? 4\n",
      "\n",
      "O total a pagar será 4 parcelas de R$250.00\n",
      "\n",
      "Vendedor, sua comissão é de R$50.00\n"
     ]
    }
   ],
   "source": [
    "valor=float(input(\"Qual foi o valor vendido?\\nR$\"))\n",
    "tipo_pagamento=int(input(\"\\nQual a forma de pagamento? \\n1 = A vista \\n2 = Parcelado\\n\"))\n",
    "\n",
    "if tipo_pagamento==1:\n",
    "    \n",
    "    valor=valor-valor*0.1\n",
    "    comissao=valor*0.05\n",
    "    print(f\"\\nO total a pagar será R${valor:.2f}\\n\\nVendedor, sua comissão é de R${comissao:.2f}\")\n",
    "    \n",
    "elif tipo_pagamento==2:\n",
    "    \n",
    "    parcelas=int(input(\"A compra será realizada em quantas parcelas? \"))\n",
    "    valor_parcelas=valor/parcelas\n",
    "    comissao=valor*0.05\n",
    "    print(f\"\\nO total a pagar será {parcelas} parcelas de R${valor_parcelas:.2f}\\n\\nVendedor, sua comissão é de R${comissao:.2f}\")\n",
    "    \n",
    "else:\n",
    "    \n",
    "    print(\"\\nTipo de pagamento não encontrado.\")"
   ]
  },
  {
   "cell_type": "markdown",
   "id": "bb73c5d8",
   "metadata": {},
   "source": [
    "## Exercício 17"
   ]
  },
  {
   "cell_type": "code",
   "execution_count": 3,
   "id": "aa75289b",
   "metadata": {},
   "outputs": [
    {
     "name": "stdout",
     "output_type": "stream",
     "text": [
      "Qual o tamanho do lado do quadrado em cm? 2.14\n",
      "\n",
      "O lado do quadrado é 2.14cm, portando seu perimetro é 8.56cm e sua área é 4.58cm²\n"
     ]
    }
   ],
   "source": [
    "lado=float(input(\"Qual o tamanho do lado do quadrado em cm? \"))\n",
    "perimetro=lado*4\n",
    "area=lado*lado\n",
    "\n",
    "print(f\"\\nO lado do quadrado é {lado:.2f}cm, portando seu perimetro é {perimetro:.2f}cm e sua área é {area:.2f}cm²\")"
   ]
  },
  {
   "cell_type": "markdown",
   "id": "4233cb3d",
   "metadata": {},
   "source": [
    "## Exercicio 18"
   ]
  },
  {
   "cell_type": "code",
   "execution_count": 7,
   "id": "29168235",
   "metadata": {},
   "outputs": [
    {
     "name": "stdout",
     "output_type": "stream",
     "text": [
      "Qual o raio do círculo em cm? 5\n",
      "\n",
      "A área do círculo é de 78.5cm²\n"
     ]
    }
   ],
   "source": [
    "import math\n",
    "\n",
    "raio=float(input(\"Qual o raio do círculo em cm? \"))\n",
    "area=math.pi*(raio**2)\n",
    "\n",
    "print(f\"\\nA área do círculo é de {area:.1f}cm²\")"
   ]
  },
  {
   "cell_type": "markdown",
   "id": "3dedd1ed",
   "metadata": {},
   "source": [
    "## Exercício 19"
   ]
  },
  {
   "cell_type": "code",
   "execution_count": 8,
   "id": "fddfdb83",
   "metadata": {},
   "outputs": [
    {
     "name": "stdout",
     "output_type": "stream",
     "text": [
      "Qual o comprimento do paralelepipedo em cm? 2\n",
      "Qual a largura do paralelepipedo em cm? 2\n",
      "Qual a altura do paralelepipedo em cm? 2\n",
      "\n",
      "A área total do paralelepipedo é 24.00cm² e o volume é 8.00cm³\n"
     ]
    }
   ],
   "source": [
    "c=float(input(\"Qual o comprimento do paralelepipedo em cm? \"))\n",
    "l=float(input(\"Qual a largura do paralelepipedo em cm? \"))\n",
    "h=float(input(\"Qual a altura do paralelepipedo em cm? \"))\n",
    "\n",
    "area=((c*l)*2)+((l*h)*2)+((h*c)*2)\n",
    "volume=c*l*h\n",
    "\n",
    "print(f\"\\nA área total do paralelepipedo é {area:.2f}cm² e o volume é {volume:.2f}cm³\")"
   ]
  },
  {
   "cell_type": "markdown",
   "id": "b8b23f2d",
   "metadata": {},
   "source": [
    "## Exercício 20"
   ]
  },
  {
   "cell_type": "code",
   "execution_count": 11,
   "id": "90794f45",
   "metadata": {},
   "outputs": [
    {
     "name": "stdout",
     "output_type": "stream",
     "text": [
      "Digite um valor real: 4\n",
      "\n",
      "A raiz do valor é 2.00\n"
     ]
    }
   ],
   "source": [
    "valor=float(input(\"Digite um valor real: \"))\n",
    "raiz=valor**(1/2)\n",
    "\n",
    "print(f\"\\nA raiz do valor é {raiz:.2f}\")"
   ]
  },
  {
   "cell_type": "markdown",
   "id": "e8efff46",
   "metadata": {},
   "source": [
    "## Exercício 21"
   ]
  },
  {
   "cell_type": "code",
   "execution_count": 12,
   "id": "1f683ac5",
   "metadata": {},
   "outputs": [
    {
     "name": "stdout",
     "output_type": "stream",
     "text": [
      "Digite o valor de um cateto do triângulo? 3\n",
      "Digite o valor do outro cateto do triângulo? 4\n",
      "\n",
      "A hipotenusa do triângulo tem o tamanho de 5.00\n"
     ]
    }
   ],
   "source": [
    "a=float(input(\"Digite o valor de um cateto do triângulo? \"))\n",
    "b=float(input(\"Digite o valor do outro cateto do triângulo? \"))\n",
    "\n",
    "h=(a**2+b**2)**(1/2)\n",
    "\n",
    "print(f\"\\nA hipotenusa do triângulo tem o tamanho de {h:.2f}\")"
   ]
  },
  {
   "cell_type": "markdown",
   "id": "3db22111",
   "metadata": {},
   "source": [
    "## Exercício 22"
   ]
  },
  {
   "cell_type": "code",
   "execution_count": 13,
   "id": "9c1593e2",
   "metadata": {},
   "outputs": [
    {
     "name": "stdout",
     "output_type": "stream",
     "text": [
      "Digite a comprimento do retângulo? 4\n",
      "Digite a largura do retângulo? 3\n",
      "\n",
      "O perímetro do retângulo mede 14.00, a área mede 12.00 e a diagonal do retângulo mede 5.00\n"
     ]
    }
   ],
   "source": [
    "a=float(input(\"Digite a comprimento do retângulo? \"))\n",
    "b=float(input(\"Digite a largura do retângulo? \"))\n",
    "\n",
    "h=(a**2+b**2)**(1/2)\n",
    "area=a*b\n",
    "perimetro=a*2+b*2\n",
    "\n",
    "print(f\"\\nO perímetro do retângulo mede {perimetro:.2f}, a área mede {area:.2f} e a diagonal do retângulo mede {h:.2f}\")"
   ]
  },
  {
   "cell_type": "markdown",
   "id": "c9ca53e3",
   "metadata": {},
   "source": [
    "## Exercício 23"
   ]
  },
  {
   "cell_type": "code",
   "execution_count": 15,
   "id": "50ddeb5d",
   "metadata": {},
   "outputs": [
    {
     "name": "stdout",
     "output_type": "stream",
     "text": [
      "Qual o raio da base do cilindro em cm? 3\n",
      "Qual a altura do cilindro em cm? 4\n",
      "\n",
      "A área de superficie do cilindro é de 131.9cm², e seu volume é 113.1cm³\n"
     ]
    }
   ],
   "source": [
    "import math\n",
    "\n",
    "raio=float(input(\"Qual o raio da base do cilindro em cm? \"))\n",
    "h=float(input(\"Qual a altura do cilindro em cm? \"))\n",
    "\n",
    "volume=(math.pi*(raio**2))*h\n",
    "area=(2*math.pi*raio*h)+(2*math.pi*(raio**2))\n",
    "\n",
    "print(f\"\\nA área de superficie do cilindro é de {area:.1f}cm², e seu volume é {volume:.1f}cm³\")"
   ]
  },
  {
   "cell_type": "markdown",
   "id": "453606e5",
   "metadata": {},
   "source": [
    "## Exercício 24"
   ]
  },
  {
   "cell_type": "code",
   "execution_count": 17,
   "id": "b97e7529",
   "metadata": {},
   "outputs": [
    {
     "name": "stdout",
     "output_type": "stream",
     "text": [
      "Digite a coordenada x? -3\n",
      "Digite a coordenada y? 4\n",
      "\n",
      "A distância até a origem é de 5.00\n"
     ]
    }
   ],
   "source": [
    "x=float(input(\"Digite a coordenada x? \"))\n",
    "y=float(input(\"Digite a coordenada y? \"))\n",
    "\n",
    "h=(x**2+y**2)**(1/2)\n",
    "\n",
    "print(f\"\\nA distância até a origem é de {h:.2f}\")"
   ]
  },
  {
   "cell_type": "markdown",
   "id": "098fb84d",
   "metadata": {},
   "source": [
    "## Exercício 25"
   ]
  },
  {
   "cell_type": "code",
   "execution_count": 19,
   "id": "278bbead",
   "metadata": {},
   "outputs": [
    {
     "name": "stdout",
     "output_type": "stream",
     "text": [
      "Digite a coordenada x: 3\n",
      "Digite a coordenada y: 4\n",
      "Digite a coordenada z: 5\n",
      "\n",
      "O módulo do vetor (3.0, 4.0, 5.0) é 7.07\n"
     ]
    }
   ],
   "source": [
    "import math\n",
    "\n",
    "x = float(input(\"Digite a coordenada x: \"))\n",
    "y = float(input(\"Digite a coordenada y: \"))\n",
    "z = float(input(\"Digite a coordenada z: \"))\n",
    "\n",
    "modulo = math.sqrt(x**2 + y**2 + z**2)\n",
    "\n",
    "print(f\"\\nO módulo do vetor ({x}, {y}, {z}) é {modulo:.2f}\")"
   ]
  },
  {
   "cell_type": "markdown",
   "id": "a026d1cc",
   "metadata": {},
   "source": [
    "## Exercício 26"
   ]
  },
  {
   "cell_type": "code",
   "execution_count": 22,
   "id": "cbc606c8",
   "metadata": {},
   "outputs": [
    {
     "name": "stdout",
     "output_type": "stream",
     "text": [
      "Digite a coordenada x do centro do retângulo: 0\n",
      "Digite a coordenada y do centro do retângulo: 0\n",
      "\n",
      "Digite a altura do retângulo: 3\n",
      "Digite o comprimento do retângulo: 6\n",
      "\n",
      "Coordenada d1: [-3.0, 1.5]\n",
      "Coordenada d2: [3.0, 1.5]\n",
      "Coordenada d3: [3.0, -1.5]\n",
      "Coordenada d4: [-3.0, -1.5]\n"
     ]
    }
   ],
   "source": [
    "x = float(input(\"Digite a coordenada x do centro do retângulo: \"))\n",
    "y = float(input(\"Digite a coordenada y do centro do retângulo: \"))\n",
    "\n",
    "h= float(input(\"\\nDigite a altura do retângulo: \"))\n",
    "c= float(input(\"Digite o comprimento do retângulo: \"))\n",
    "\n",
    "d1=[x-c/2,y+h/2]\n",
    "d2=[x+c/2,y+h/2]\n",
    "d3=[x+c/2,y-h/2]\n",
    "d4=[x-c/2,y-h/2]\n",
    "\n",
    "print(\"\\nCoordenada d1:\", d1)\n",
    "print(\"Coordenada d2:\", d2)\n",
    "print(\"Coordenada d3:\", d3)\n",
    "print(\"Coordenada d4:\", d4)"
   ]
  },
  {
   "cell_type": "markdown",
   "id": "8756a76c",
   "metadata": {},
   "source": [
    "## Exercício 27"
   ]
  },
  {
   "cell_type": "code",
   "execution_count": 30,
   "id": "94bd9d47",
   "metadata": {},
   "outputs": [
    {
     "name": "stdout",
     "output_type": "stream",
     "text": [
      "Digite a coordenada x do Ponto A: 2\n",
      "Digite a coordenada y do Ponto A: 3\n",
      "\n",
      "Digite a coordenada x do Ponto C: 4\n",
      "Digite a coordenada y do Ponto C: 5\n",
      "\n",
      "Comprimento do segmento de reta AC: 2.83\n",
      "Coordenadas do ponto médio do segmento de reta AC: 3.00, 4.00\n",
      "Coordenadas do ponto B do quadrado: 5.00, 2.00\n",
      "Coordenadas do ponto D do quadrado: 1.00, 6.00\n"
     ]
    }
   ],
   "source": [
    "Ax = float(input(\"Digite a coordenada x do Ponto A: \"))\n",
    "Ay = float(input(\"Digite a coordenada y do Ponto A: \"))\n",
    "\n",
    "Cx = float(input(\"\\nDigite a coordenada x do Ponto C: \"))\n",
    "Cy = float(input(\"Digite a coordenada y do Ponto C: \"))\n",
    "\n",
    "comprimento_ac = math.sqrt((Cx - Ax)**2 + (Cy - Ay)**2)\n",
    "\n",
    "xm = (Ax + Cx) / 2\n",
    "ym = (Ay + Cy) / 2\n",
    "\n",
    "deltax = Cx - Ax\n",
    "deltay = Cy - Ay\n",
    "\n",
    "xb = xm + deltay\n",
    "yb = ym - deltax\n",
    "\n",
    "xd = xm - deltay\n",
    "yd = ym + deltax\n",
    "\n",
    "print(f\"\\nComprimento do segmento de reta AC: {comprimento_ac:.2f}\")\n",
    "print(f\"Coordenadas do ponto médio do segmento de reta AC: {xm:.2f}, {ym:.2f}\")\n",
    "print(f\"Coordenadas do ponto B do quadrado: {xb:.2f}, {yb:.2f}\")\n",
    "print(f\"Coordenadas do ponto D do quadrado: {xd:.2f}, {yd:.2f}\")"
   ]
  },
  {
   "cell_type": "markdown",
   "id": "65aec84a",
   "metadata": {},
   "source": [
    "## Exercício 28"
   ]
  },
  {
   "cell_type": "code",
   "execution_count": 32,
   "id": "e5f59649",
   "metadata": {},
   "outputs": [
    {
     "name": "stdout",
     "output_type": "stream",
     "text": [
      "Digite a coordenada x do ponto P1: 2\n",
      "Digite a coordenada y do ponto P1: 3\n",
      "\n",
      "Digite a coordenada x do ponto P2: 6\n",
      "Digite a coordenada y do ponto P2: 5\n",
      "\n",
      "Digite a coordenada x do ponto P3: 2\n",
      "Digite a coordenada y do ponto P3: 4\n",
      "\n",
      "A área do triângulo é 2.00\n"
     ]
    }
   ],
   "source": [
    "x1 = float(input(\"Digite a coordenada x do ponto P1: \"))\n",
    "y1 = float(input(\"Digite a coordenada y do ponto P1: \"))\n",
    "\n",
    "x2 = float(input(\"\\nDigite a coordenada x do ponto P2: \"))\n",
    "y2 = float(input(\"Digite a coordenada y do ponto P2: \"))\n",
    "\n",
    "x3 = float(input(\"\\nDigite a coordenada x do ponto P3: \"))\n",
    "y3 = float(input(\"Digite a coordenada y do ponto P3: \"))\n",
    "\n",
    "area=0.5 * abs(x1*(y2 - y3) + x2*(y3 - y1) + x3*(y1 - y2))\n",
    "\n",
    "print(f\"\\nA área do triângulo é {area:.2f}\")"
   ]
  },
  {
   "cell_type": "markdown",
   "id": "f67382c5",
   "metadata": {},
   "source": [
    "## Exercício 30\n",
    "(Pior que pula o 29 mesmo no pdf, professor kkkk)"
   ]
  },
  {
   "cell_type": "code",
   "execution_count": 37,
   "id": "9128faad",
   "metadata": {},
   "outputs": [
    {
     "name": "stdout",
     "output_type": "stream",
     "text": [
      "Qual a altura que você deseja subir em metros? 6\n",
      "\n",
      "Qual a altura dos degraus da escada em cm? 24\n",
      "\n",
      "Você precisará de 25 degrais para alcançar a altura de 6.00m\n"
     ]
    }
   ],
   "source": [
    "import math\n",
    "\n",
    "altura_m=float(input(\"Qual a altura que você deseja subir em metros? \"))\n",
    "altura_cm=altura_m*100\n",
    "\n",
    "altura_degrau=float(input(\"\\nQual a altura dos degraus da escada em cm? \"))\n",
    "\n",
    "qtd_degraus=int(math.ceil(altura_cm/altura_degrau))\n",
    "\n",
    "print(f\"\\nVocê precisará de {qtd_degraus} degrais para alcançar a altura de {altura_m:.2f}m\")"
   ]
  },
  {
   "cell_type": "markdown",
   "id": "854689de",
   "metadata": {},
   "source": [
    "## Exercício 31"
   ]
  },
  {
   "cell_type": "code",
   "execution_count": 40,
   "id": "87a43673",
   "metadata": {},
   "outputs": [
    {
     "name": "stdout",
     "output_type": "stream",
     "text": [
      "Digite um valor entre 1000 e 9999): 1245\n",
      "\n",
      "1\n",
      "2\n",
      "4\n",
      "5\n"
     ]
    }
   ],
   "source": [
    "numero = int(input(\"Digite um valor entre 1000 e 9999): \"))\n",
    "print(\"\")\n",
    "\n",
    "if 1000 <= numero <= 9999:\n",
    "    nstr = str(numero)\n",
    "    for i in nstr:\n",
    "        print(i)\n",
    "else:\n",
    "    print(\"Número inválido\")"
   ]
  },
  {
   "cell_type": "markdown",
   "id": "351a8d13",
   "metadata": {},
   "source": [
    "## Exercício 32"
   ]
  },
  {
   "cell_type": "code",
   "execution_count": 41,
   "id": "e0075856",
   "metadata": {},
   "outputs": [
    {
     "name": "stdout",
     "output_type": "stream",
     "text": [
      "Digite um número inteiro de três dígitos (de 100 a 999): 125\n",
      "Número invertido: 521\n"
     ]
    }
   ],
   "source": [
    "numero = input(\"Digite um número inteiro de três dígitos (de 100 a 999): \")\n",
    "\n",
    "if len(numero) == 3 and numero.isdigit() and 100 <= int(numero) <= 999:\n",
    "    numero_invertido = numero[::-1]\n",
    "    print(\"Número invertido:\", numero_invertido)\n",
    "\n",
    "else:\n",
    "    print(\"Número fora do intervalo especificado ou não possui três dígitos.\")"
   ]
  },
  {
   "cell_type": "markdown",
   "id": "990fd68d",
   "metadata": {},
   "source": [
    "## Exercício 33"
   ]
  },
  {
   "cell_type": "code",
   "execution_count": 42,
   "id": "51810f9a",
   "metadata": {},
   "outputs": [
    {
     "name": "stdout",
     "output_type": "stream",
     "text": [
      "Digite um valor em segundos: 3200\n",
      "0 horas, 53 minutos e 20 segundos\n"
     ]
    }
   ],
   "source": [
    "valor_segundos = int(input(\"Digite um valor em segundos: \"))\n",
    "\n",
    "horas = valor_segundos // 3600\n",
    "minutos = (valor_segundos % 3600) // 60\n",
    "segundos = valor_segundos % 60\n",
    "\n",
    "print(f\"{horas} horas, {minutos} minutos e {segundos} segundos\")"
   ]
  },
  {
   "cell_type": "markdown",
   "id": "f48c28d1",
   "metadata": {},
   "source": [
    "## Exercício 34 "
   ]
  },
  {
   "cell_type": "code",
   "execution_count": 44,
   "id": "721944e6",
   "metadata": {},
   "outputs": [
    {
     "name": "stdout",
     "output_type": "stream",
     "text": [
      "Digite o valor investido pelo apostador 1: 100\n",
      "Digite o valor investido pelo apostador 2: 200\n",
      "Digite o valor investido pelo apostador 3: 300\n",
      "\n",
      "Digite o valor do prêmio: 1000\n",
      "\n",
      "Apostador 1 ganharia: R$ 166.67\n",
      "Apostador 2 ganharia: R$ 333.33\n",
      "Apostador 3 ganharia: R$ 500.00\n"
     ]
    }
   ],
   "source": [
    "apostador1 = float(input(\"Digite o valor investido pelo apostador 1: \"))\n",
    "apostador2 = float(input(\"Digite o valor investido pelo apostador 2: \"))\n",
    "apostador3 = float(input(\"Digite o valor investido pelo apostador 3: \"))\n",
    "\n",
    "valor_premio = float(input(\"\\nDigite o valor do prêmio: \"))\n",
    "\n",
    "total_investido = apostador1 + apostador2 + apostador3\n",
    "proporcao_apostador1 = apostador1 / total_investido\n",
    "proporcao_apostador2 = apostador2 / total_investido\n",
    "proporcao_apostador3 = apostador3 / total_investido\n",
    "\n",
    "premio_apostador1 = valor_premio * proporcao_apostador1\n",
    "premio_apostador2 = valor_premio * proporcao_apostador2\n",
    "premio_apostador3 = valor_premio * proporcao_apostador3\n",
    "\n",
    "print(f\"\\nApostador 1 ganharia: R${premio_apostador1:.2f}\")\n",
    "print(f\"Apostador 2 ganharia: R${premio_apostador2:.2f}\")\n",
    "print(f\"Apostador 3 ganharia: R${premio_apostador3:.2f}\")"
   ]
  },
  {
   "cell_type": "markdown",
   "id": "ff1076c3",
   "metadata": {},
   "source": [
    "## Exercício 35"
   ]
  },
  {
   "cell_type": "code",
   "execution_count": 45,
   "id": "ab3a12aa",
   "metadata": {},
   "outputs": [
    {
     "name": "stdout",
     "output_type": "stream",
     "text": [
      "Digite o comprimento do terreno em metros: 100\n",
      "Digite a largura do terreno em metros: 200\n",
      "Digite o preço do metro de tela: R$6\n",
      "\n",
      "O custo para cercar o terreno é de R$3600.00\n"
     ]
    }
   ],
   "source": [
    "c = float(input(\"Digite o comprimento do terreno em metros: \"))\n",
    "l = float(input(\"Digite a largura do terreno em metros: \"))\n",
    "\n",
    "preco_metro_tela = float(input(\"Digite o preço do metro de tela: R$\"))\n",
    "\n",
    "# Calcula a quantidade de tela necessária\n",
    "perimetro = 2 * (c + l)\n",
    "custo_cercamento = perimetro * preco_metro_tela\n",
    "\n",
    "print(f\"\\nO custo para cercar o terreno é de R${custo_cercamento:.2f}\")"
   ]
  },
  {
   "cell_type": "markdown",
   "id": "66f3c1f7",
   "metadata": {},
   "source": [
    "## Exercício 36"
   ]
  },
  {
   "cell_type": "code",
   "execution_count": 46,
   "id": "7f1ba7eb",
   "metadata": {},
   "outputs": [
    {
     "name": "stdout",
     "output_type": "stream",
     "text": [
      "Digite o ano atual: 2023\n",
      "Digite a sua idade: 23\n",
      "\n",
      "Você nasceu no ano 2000\n"
     ]
    }
   ],
   "source": [
    "ano_atual = int(input(\"Digite o ano atual: \"))\n",
    "idade = int(input(\"Digite a sua idade: \"))\n",
    "\n",
    "ano_nascimento=ano_atual-idade\n",
    "\n",
    "print(f\"\\nVocê nasceu no ano {ano_nascimento}\")"
   ]
  },
  {
   "cell_type": "markdown",
   "id": "ab722184",
   "metadata": {},
   "source": [
    "## Exercício 37"
   ]
  },
  {
   "cell_type": "code",
   "execution_count": 47,
   "id": "c3b1a3f6",
   "metadata": {},
   "outputs": [
    {
     "name": "stdout",
     "output_type": "stream",
     "text": [
      "Digite a hora de início (0-23): 22\n",
      "Digite o minuto de início (0-59): 32\n",
      "Digite o segundo de início (0-59): 12\n",
      "Digite a duração em segundos: 5612\n",
      "Horário de término: 24:05:44\n"
     ]
    }
   ],
   "source": [
    "hora_inicio = int(input(\"Digite a hora de início (0-23): \"))\n",
    "minuto_inicio = int(input(\"Digite o minuto de início (0-59): \"))\n",
    "segundo_inicio = int(input(\"Digite o segundo de início (0-59): \"))\n",
    "\n",
    "duracao_segundos = int(input(\"Digite a duração em segundos: \"))\n",
    "\n",
    "segundos_totais_inicio = hora_inicio * 3600 + minuto_inicio * 60 + segundo_inicio\n",
    "segundos_totais_termino = segundos_totais_inicio + duracao_segundos\n",
    "\n",
    "hora_termino = segundos_totais_termino // 3600\n",
    "minuto_termino = (segundos_totais_termino % 3600) // 60\n",
    "segundo_termino = segundos_totais_termino % 60\n",
    "\n",
    "print(f\"Horário de término: {hora_termino:02d}:{minuto_termino:02d}:{segundo_termino:02d}\")"
   ]
  }
 ],
 "metadata": {
  "kernelspec": {
   "display_name": "Python 3 (ipykernel)",
   "language": "python",
   "name": "python3"
  },
  "language_info": {
   "codemirror_mode": {
    "name": "ipython",
    "version": 3
   },
   "file_extension": ".py",
   "mimetype": "text/x-python",
   "name": "python",
   "nbconvert_exporter": "python",
   "pygments_lexer": "ipython3",
   "version": "3.9.12"
  }
 },
 "nbformat": 4,
 "nbformat_minor": 5
}
